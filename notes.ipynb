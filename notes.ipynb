{
 "cells": [
  {
   "cell_type": "markdown",
   "id": "a13a1cf7",
   "metadata": {},
   "source": [
    "# Comparing Inner Core Anisotropy Models with the Savage-Dickey Density Ratio"
   ]
  },
  {
   "cell_type": "markdown",
   "id": "71a23b7c",
   "metadata": {},
   "source": [
    "## Inner Core Anisotropy"
   ]
  },
  {
   "cell_type": "markdown",
   "id": "95b543b8",
   "metadata": {},
   "source": [
    "Following [Brett et al., 2024](https://www.nature.com/articles/s41561-024-01539-6#Sec6)."
   ]
  },
  {
   "cell_type": "markdown",
   "id": "31ce0dfa",
   "metadata": {},
   "source": [
    "We consider a model of transverse isotropy where the magnitude of anisotropy and the direction of the fast axis are independent variables.\n",
    "\n",
    "The elastic tensor (in Voigt notation) for transverse isotropy is determined by 5 Love parameters\n",
    "\n",
    "$$ \\mathcal{C} = \\begin{pmatrix}\n",
    "A & A - 2N & F & 0 & 0 & 0 \\\\\n",
    "A - 2N & A & F & 0 & 0 & 0 \\\\\n",
    "F & F & C & 0 & 0 & 0 \\\\\n",
    "0 & 0 & 0 & L & 0 & 0 \\\\\n",
    "0 & 0 & 0 & 0 & L & 0 \\\\\n",
    "0 & 0 & 0 & 0 & 0 & N \\\\\n",
    "\\end{pmatrix} $$\n",
    "\n",
    "(excuse the confusing notation of the matrix $\\mathcal{C}$ and the Love parameter $C$)\n",
    "\n",
    "Rotating this using 2 Euler angles $\\eta_1, \\eta_2$ (the third is just a rotation about the fast axis but in transverse isotropy this is symmetrical) and the rotation matrix $R(r^{-1})$ where\n",
    "\n",
    "$$ r^{-1} = \\begin{pmatrix}\n",
    "\\cos\\eta_1\\cos\\eta_2 & -\\sin\\eta_1 & \\sin\\eta_2\\cos\\eta_1 \\\\\n",
    "\\sin\\eta_1\\cos\\eta_2 & \\cos\\eta_1 & \\sin\\eta_1\\sin\\eta_2 \\\\\n",
    "-\\sin\\eta_2 & 0 & \\cos\\eta_2 \\\\\n",
    "\\end{pmatrix} $$\n",
    "\n",
    "and \n",
    "\n",
    "$$ R(r) = \\begin{pmatrix}\n",
    "r_{11}^2 & r_{12}^2 & r_{13}^2 & 2r_{12}r_{13} & 2r_{11}r_{13} & 2r_{11}r_{12} \\\\\n",
    "\n",
    "r_{21}^2 & r_{22}^2 & r_{23}^2 & 2r_{22}r_{23} & 2r_{21}r_{23} & 2r_{21}r_{22} \\\\\n",
    "\n",
    "r_{31}^2 & r_{32}^2 & r_{33}^2 & 2r_{32}r_{33} & 2r_{31}r_{33} & 2r_{31}r_{32} \\\\\n",
    "\n",
    "r_{21}r_{31} & r_{22}r_{32} & r_{23}r_{33} & r_{22}r_{23} + r_{32}r_{23} & r_{23}r_{31} + r_{21}r_{33} & r_{21}r_{32} + r_{31}r_{22} \\\\\n",
    "\n",
    "r_{11}r_{31} & r_{12}r_{32} & r_{13}r_{33} & r_{32}r_{13} + r_{12}r_{33} & r_{33}r_{11} + r_{13}r_{31} & r_{31}r_{12} + r_{11}r_{32} \\\\\n",
    "\n",
    "r_{11}r_{21} & r_{12}r_{22} & r_{13}r_{23} & r_{12}r_{23} + r_{13}r_{22} & r_{13}r_{21} + r_{23}r_{11} & r_{11}r_{22} + r_{21}r_{12} \\\\\n",
    "\\end{pmatrix} $$\n",
    "\n",
    "we get a general rotated transverse isotropic elastic tensor\n",
    "\n",
    "$$ D = R(r^{-1})CR(r^{-1})^T $$\n",
    "\n",
    "Then the relative travel time change is given by \n",
    "\n",
    "$$ \\frac{\\delta t}{t_{\\mathrm{PREM}}} = \\sum_{i,j,k,l = 1}^3 n_i n_j n_k n_l D_{ijkl}(\\eta_1, \\eta_2, \\delta A, \\delta C, \\delta F | N = N_{\\mathrm{PREM}}, L = L_{PREM}) $$\n",
    "\n",
    "This reduces to the standard fast axis parallel to Earth's rotation axis when $\\eta_1 = \\eta_2 = 0$.\n",
    "\n",
    "$\\mathcal{C}$ reduces to an isotropic elastic tensor when we have the following\n",
    "\n",
    "\\begin{align*}\n",
    "A = C = \\lambda + 2 \\mu \\\\\n",
    "A - 2N = F = \\lambda \\rightarrow N = \\mu \\\\\n",
    "L = N\n",
    "\\end{align*}\n",
    "\n",
    "where $\\lambda, \\mu$ are the Lamé parameters (bulk and shear moduli).\n",
    "\n",
    "PREM is isotropic in the inner core so $N_{\\mathrm{PREM}} = N_{\\mathrm{PREM}}$.  We only have P-wave measurements anyway so there is no sensitivity to $L$."
   ]
  },
  {
   "cell_type": "markdown",
   "id": "f65d6775",
   "metadata": {},
   "source": [
    "## Savage Dickey Density Ratio"
   ]
  },
  {
   "cell_type": "markdown",
   "id": "dfde53de",
   "metadata": {},
   "source": [
    "The SDDR gives a fast way of estimating the Bayes Factor of nested models.\n",
    "\n",
    "Consider a model $\\mathcal{H}_2$ that has parameters given by $\\left( \\mathbf{\\theta}, \\mathbf{\\nu} \\right)$.  A model $\\mathcal{H}_1$ is nested in $\\mathcal{H}_2$ if it has the same parameters but where a subset are fixed to a specific value i.e. $\\left( \\mathbf{\\theta}, \\mathbf{\\nu} = \\mathbf{\\nu}^* \\right)$.  $\\mathcal{H}_2$ is called the super-model.\n",
    "\n",
    "The evidence for model $\\mathcal{H}_i$ is given by\n",
    "\n",
    "$$ z_i = p(\\mathbf{d}|\\mathcal{H}_i) \\int p(\\mathbf{d} | \\mathbf{m}, \\mathcal{H}_i)p(\\mathbf{m} | \\mathcal{H}_i)\\;\\mathrm{d}\\mathbf{m} $$\n",
    "\n",
    "where the parameter vector $\\mathbf{m} = \\left( \\mathbf{\\theta}, \\mathbf{\\nu} \\right)$.  The Bayes Factor comparing models $\\mathcal{H}_1$ and $\\mathcal{H}_2$ is given by\n",
    "\n",
    "$$B_{12} = \\frac{z_1}{z_2}$$\n",
    "\n",
    "If \n",
    "\n",
    "1. the priors for the common parameters $\\mathbf{\\theta}$ are the same under both models i.e. $p(\\mathbf{\\theta}|\\mathcal{H}_1) = p(\\mathbf{\\theta}|\\mathcal{H}_2)$;\n",
    "2. the joint prior of the common and nuisance parameters in the super model is separable i.e. $p(\\mathbf{\\theta}, \\mathbf{\\nu}) = p(\\mathbf{\\theta})p(\\mathbf{\\nu})$; and\n",
    "3. at some value of the nuisance parameters $\\mathbf{\\nu} = \\mathbf{\\nu}^*$ the likelihood of the supermodel collapses to that of the nested model i.e. $p(\\mathbf{d} | \\mathbf{\\theta}, \\mathbf{\\nu} = \\mathbf{\\nu}^*, \\mathcal{H}_2) = p(\\mathbf{d} | \\mathbf{\\theta}, \\mathcal{H}_1)$\n",
    "\n",
    "then the SDDR simplifies the Bayes Factor.\n",
    "\n",
    "\\begin{align*}\n",
    "B_{12} &= \\frac{p(\\mathbf{d}|\\mathcal{H}_1)}{p(\\mathbf{d}|\\mathcal{H}_2)} \\\\\n",
    "       &= \\frac{\\int p(\\mathbf{d} | \\mathbf{\\theta}, \\mathcal{H}_1)p(\\mathbf{\\theta} | \\mathcal{H}_1)\\;\\mathrm{d}\\mathbf{\\theta}}{\\int p(\\mathbf{d} | \\mathbf{\\theta}, \\mathbf{\\nu}, \\mathcal{H}_2)p(\\mathbf{\\theta}, \\mathbf{\\nu} | \\mathcal{H}_2)\\;\\mathrm{d}\\mathbf{\\theta}\\mathrm{d}\\mathbf{\\nu}} \\\\\n",
    "       &= \\frac{\\int p(\\mathbf{d} | \\mathbf{\\theta}, \\mathcal{H}_1)p(\\mathbf{\\theta} | \\mathcal{H}_1)\\;\\mathrm{d}\\mathbf{\\theta}}{\\int p(\\mathbf{d} | \\mathbf{\\theta}, \\mathbf{\\nu}, \\mathcal{H}_2)p(\\mathbf{\\theta} | \\mathcal{H}_2)p(\\mathbf{\\nu} | \\mathcal{H}_2)\\;\\mathrm{d}\\mathbf{\\theta}\\mathrm{d}\\mathbf{\\nu}} \\\\\n",
    "       &= \\frac{\\int p(\\mathbf{d} | \\mathbf{\\theta}, \\mathcal{H}_1)\\;\\mathrm{d}\\mathbf{\\theta}}{\\int p(\\mathbf{d} | \\mathbf{\\theta}, \\mathbf{\\nu}, \\mathcal{H}_2)p(\\mathbf{\\nu} | \\mathcal{H}_2)\\;\\mathrm{d}\\mathbf{\\theta}\\mathrm{d}\\mathbf{\\nu}} \\\\\n",
    "       &= \\frac{\\int p(\\mathbf{d} | \\mathbf{\\theta}, \\mathbf{\\nu} = \\mathbf{\\nu}^*, \\mathcal{H}_2)\\;\\mathrm{d}\\mathbf{\\theta}}{\\int p(\\mathbf{d} | \\mathbf{\\theta}, \\mathbf{\\nu}, \\mathcal{H}_2)p(\\mathbf{\\nu} | \\mathcal{H}_2)\\;\\mathrm{d}\\mathbf{\\theta}\\mathrm{d}\\mathbf{\\nu}} \\\\\n",
    "       &= \\frac{p(\\mathbf{\\nu} = \\mathbf{\\nu}^* | \\mathcal{H}_2)}{p(\\mathbf{\\nu} = \\mathbf{\\nu}^* | \\mathcal{H}_2)}\\frac{\\int p(\\mathbf{d} | \\mathbf{\\theta}, \\mathbf{\\nu} = \\mathbf{\\nu}^*, \\mathcal{H}_2)\\;\\mathrm{d}\\mathbf{\\theta}}{\\int p(\\mathbf{d} | \\mathbf{\\theta}, \\mathbf{\\nu}, \\mathcal{H}_2)p(\\mathbf{\\nu} | \\mathcal{H}_2)\\;\\mathrm{d}\\mathbf{\\theta}\\mathrm{d}\\mathbf{\\nu}} \\\\\n",
    "       &= \\frac{1}{p(\\mathbf{\\nu} = \\mathbf{\\nu}^* | \\mathcal{H}_2)}\\frac{p(\\mathbf{d} | \\mathbf{\\nu} = \\mathbf{\\nu}^*, \\mathcal{H}_2)p(\\mathbf{\\nu} = \\mathbf{\\nu}^* | \\mathcal{H}_2)}{\\int p(\\mathbf{d} | \\mathbf{\\theta}, \\mathbf{\\nu}, \\mathcal{H}_2)p(\\mathbf{\\nu} | \\mathcal{H}_2)\\;\\mathrm{d}\\mathbf{\\theta}\\mathrm{d}\\mathbf{\\nu}}\n",
    "\\end{align*}\n",
    "\n",
    "The second term on the right hand side is the normalised posterior probability that $\\mathbf{\\nu} = \\mathbf{\\nu}^*$ under $\\mathcal{H}_2$. Thus the SDDR is\n",
    "\n",
    "$$ B_{12} = \\frac{p(\\mathbf{\\nu} = \\mathbf{\\nu}^* | \\mathbf{d}, \\mathcal{H}_2)}{p(\\mathbf{\\nu} = \\mathbf{\\nu}^* | \\mathcal{H}_2)} $$\n",
    "\n",
    "i.e. the ratio of the normalised posterior to the prior, both under the super model, evaluated at a particular value of the nuisance parameters.\n",
    "\n",
    "In practice, this means one only needs to sample and fit a normalised distribution to the supermodel, and the Bayes Factor with the nested model follows immediately."
   ]
  },
  {
   "cell_type": "markdown",
   "id": "3aa9fa88",
   "metadata": {},
   "source": [
    "## SDDR for Inner Core Anisotropy\n",
    "\n",
    "Our basic supermodel vector is \n",
    "\n",
    "$$ \\theta = (\\eta_1, \\eta_2, \\delta A, \\delta C, \\delta F) $$\n",
    "\n",
    "at each grid point.\n",
    "\n",
    "The nested model that represents transverse isotropy with fast axis parallel to rotation axis is\n",
    "\n",
    "$$ \\theta = (\\delta A, \\delta C, \\delta F, \\eta_1 = 0, \\eta_2 = 0) $$\n",
    "\n",
    "The nested model that represents isotropy would be\n",
    "\n",
    "$$ \\theta = (\\delta A, \\delta C = \\delta A, \\delta F = \\delta A - 2\\delta N, \\eta_1 = 0, \\eta_2 = 0) $$\n",
    "\n",
    "(DOUBLE CHECK FOR F.  We have F=A-2N for isotropy but we're dealing with perturbations here)\n",
    "\n",
    "However, here were our constraints on some random variables are (linear) functions of other random variables.  The need to be constants for SDDR.  So instead we define our supermodel in terms of differences, and the nested model is when those differences equal 0.\n",
    "\n",
    "The super model becomes\n",
    "\n",
    "$$ \\theta = (\\delta A, \\delta C_A, \\delta F_A, \\eta_1, \\eta_2, ) $$\n",
    "\n",
    "Where $C_A = C - A$ and $F_A = F - A + 2N$ (AGAIN CHECK WHAT THESE LOOK LIKE FOR PERTURBATIONS)\n",
    "\n",
    "The isotropic nested model is then\n",
    "\n",
    "$$ \\theta = (\\delta A, \\delta C_A = 0, \\delta F_A = 0, \\eta_1 = 0, \\eta_2 = 0) $$\n",
    "\n",
    "The priors for each model parameter are given by\n",
    "\n",
    "$$ \\eta_1 \\sim U(-180, 180) $$\n",
    "\n",
    "$$ \\eta_2 \\sim U(0, 90) $$\n",
    "\n",
    "$$ \\delta A, \\delta C, \\delta F = \\mathcal{N}(1.0, 0.2) $$\n",
    "\n",
    "The priors for the Euler angles are geometrically motivated.  As for the priors for the perturbations to the Love parameters, this is what is said to be the prior in [Brett et al., 2024](https://www.nature.com/articles/s41561-024-01539-6#Sec6), although why it is not a zero-mean Gaussian is not clear."
   ]
  },
  {
   "cell_type": "markdown",
   "id": "ab080b48",
   "metadata": {},
   "source": [
    "## Plan of Attack\n",
    "\n",
    "### Bulk IC\n",
    "\n",
    "Start with a synthetic example where we look for the bulk properties of the inner core i.e. homogenous i.e. 1 grid point.  This should make it fairly quick while building up the infrastructure.\n",
    "\n",
    "The synthetic IC should be isotropic (or just the common transverse isotropic - that way the true solution is between the supermodel and the most nested model).\n",
    "\n",
    "The forward model is the tensor product above.  How this is implemented will be crucial to the scaling to 3D."
   ]
  },
  {
   "cell_type": "markdown",
   "id": "e5695024",
   "metadata": {},
   "source": []
  }
 ],
 "metadata": {
  "kernelspec": {
   "display_name": "savagedickeyicanisotropy",
   "language": "python",
   "name": "python3"
  },
  "language_info": {
   "name": "python",
   "version": "3.12.11"
  }
 },
 "nbformat": 4,
 "nbformat_minor": 5
}
